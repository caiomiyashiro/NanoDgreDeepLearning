{
 "cells": [
  {
   "cell_type": "markdown",
   "metadata": {},
   "source": [
    "### Turn on autocomplete"
   ]
  },
  {
   "cell_type": "code",
   "execution_count": 1,
   "metadata": {
    "collapsed": true
   },
   "outputs": [],
   "source": [
    "%config IPCompleter.greedy=True"
   ]
  },
  {
   "cell_type": "markdown",
   "metadata": {},
   "source": [
    "### Import Packages"
   ]
  },
  {
   "cell_type": "code",
   "execution_count": 2,
   "metadata": {
    "collapsed": true
   },
   "outputs": [],
   "source": [
    "import numpy as np\n",
    "import pandas as pd"
   ]
  },
  {
   "cell_type": "markdown",
   "metadata": {},
   "source": [
    "### Import Dataset"
   ]
  },
  {
   "cell_type": "code",
   "execution_count": 3,
   "metadata": {
    "collapsed": true
   },
   "outputs": [],
   "source": [
    "dataset = pd.read_csv('bmi_and_life_expectancy.csv')\n",
    "\n",
    "# get header names\n",
    "dataset.columns\n",
    "\n",
    "x_data = dataset[['BMI']]\n",
    "x_data = np.column_stack((np.repeat(1, len(x_data)), x_data))\n",
    "\n",
    "y_data = np.array(dataset[['Life expectancy']])"
   ]
  },
  {
   "cell_type": "markdown",
   "metadata": {},
   "source": [
    "### calculate StepGradient based on gradient of the loss function:\n",
    "\n",
    "$$J(\\theta ) = \\frac{1}{2}\\sum_{i = 1}^{m}(h_{\\theta}(x^{(i)}) - y^{(i)})^2$$ \n",
    "\n",
    "$$\\underset{\\theta_{0},\\theta_{1}}{min}J(\\theta_{0}, \\theta_{1})$$\n",
    "\n",
    "#### Update Rule:\n",
    "$$\\beta _{0} := \\beta _{0} - \\alpha \\frac{\\partial }{\\partial \\beta_{0}}J(\\theta_{0}, \\theta_{1})$$\n",
    "\n",
    "$$\\beta _{1} := \\beta _{1} - \\alpha \\frac{\\partial }{\\partial \\beta_{1}}J(\\theta_{1}, \\theta_{1})$$\n",
    "\n",
    "#### Derivatives\n",
    "\n",
    "$$\\frac{\\partial }{\\partial \\theta_{0}}J(\\theta_{0}, \\theta_{1}) = \\frac{1}{m}\\sum_{i = 1}^{m}(h_{\\theta}(x^{(i)}) - y^{(i)})$$\n",
    "\n",
    "$$\\frac{\\partial }{\\partial \\theta_{1}}J(\\theta_{0}, \\theta_{1}) = \\frac{1}{m}\\sum_{i = 1}^{m}(h_{\\theta}(x^{(i)}) - y^{(i)}).x^{(i)}$$"
   ]
  },
  {
   "cell_type": "markdown",
   "metadata": {},
   "source": [
    "### calculateError - Calculate error based on minimum square error"
   ]
  },
  {
   "cell_type": "code",
   "execution_count": 4,
   "metadata": {
    "collapsed": true
   },
   "outputs": [],
   "source": [
    "def calculateError(x_data, y_data, bias, beta1):\n",
    "    \n",
    "    m = len(x_data)\n",
    "    parMatrix = np.matrix([bias,beta1]).transpose() \n",
    "    predictedValues = np.matrix(x_data * parMatrix)\n",
    "    \n",
    "    error = 1/(2*m) * np.sum(np.power((predictedValues - y_data),2))\n",
    "    \n",
    "    return error"
   ]
  },
  {
   "cell_type": "markdown",
   "metadata": {},
   "source": [
    "### calculateStepGradient - Calculate partial derivatives of the cost function on each parameter"
   ]
  },
  {
   "cell_type": "code",
   "execution_count": 5,
   "metadata": {
    "collapsed": true
   },
   "outputs": [],
   "source": [
    "def calculateStepGradient(x_data, y_data, bias, beta1):\n",
    "    m = len(x_data)\n",
    "    parMatrix = np.matrix([bias,beta1]).transpose() \n",
    "    \n",
    "    predictedValues = x_data * parMatrix\n",
    "    \n",
    "    derivativeBias  = 1/m * np.sum(predictedValues - y_data)\n",
    "    derivativeBeta1 = 1/m * np.transpose(predictedValues - y_data) * np.matrix(x_data[:,1]).transpose()    \n",
    "    \n",
    "    derivativeBias = derivativeBias\n",
    "    derivativeBeta1 = derivativeBeta1.item()\n",
    "    \n",
    "    return (derivativeBias,derivativeBeta1)"
   ]
  },
  {
   "cell_type": "markdown",
   "metadata": {},
   "source": [
    "### Define initial call for linear regression"
   ]
  },
  {
   "cell_type": "code",
   "execution_count": 6,
   "metadata": {
    "collapsed": true
   },
   "outputs": [],
   "source": [
    "def linearRegressionRun(x_data, y_data):\n",
    "    # model parameters\n",
    "    bias = 0\n",
    "    beta1 = 0\n",
    "    learningRate = 0.001\n",
    "    maxNbrIteractions = 1000\n",
    "    errorConvergence = 0.00001 # if next iteraction doesn't improve on the limit, stop\n",
    "    \n",
    "    errorArray = np.zeros(maxNbrIteractions)\n",
    "    calcErrorConvergence = 10\n",
    "    i = 0\n",
    "    while( i < maxNbrIteractions and calcErrorConvergence > errorConvergence):\n",
    "        \n",
    "        errorArray[i] = calculateError(x_data, y_data, bias, beta1)\n",
    "        print('Cost in iteraction ' + str(i) + ': ' + str(errorArray[i]))\n",
    "        if(i >= 1): # calculate error convergence starting from index 1\n",
    "            calcErrorConvergence = abs(errorArray[i] - errorArray[i-1])\n",
    "            print('Error convergence: ' + str(calcErrorConvergence))\n",
    "        \n",
    "        [derivativeBias, derivativeBeta1] = calculateStepGradient(x_data, y_data, bias, beta1)        \n",
    "        print('Derivatives: ' + str(derivativeBias) + ' ' + str(derivativeBeta1))\n",
    "        \n",
    "        bias = bias - (learningRate * derivativeBias)\n",
    "        beta1 = beta1 - (learningRate * derivativeBeta1)\n",
    "        \n",
    "        print('New beta0 and beta1 ' + str(bias) + ' ' + str(beta1))\n",
    "        print('\\n')\n",
    "        \n",
    "        i = i + 1\n",
    "    return (bias, beta1, errorArray)"
   ]
  },
  {
   "cell_type": "markdown",
   "metadata": {},
   "source": [
    "### Call Function"
   ]
  },
  {
   "cell_type": "code",
   "execution_count": 7,
   "metadata": {},
   "outputs": [
    {
     "name": "stdout",
     "output_type": "stream",
     "text": [
      "Cost in iteraction 0: 2466.83083466\n",
      "Derivatives: -69.6669325153 -1741.9635214490797\n",
      "New beta0 and beta1 0.0696669325153 1.7419635214490798\n",
      "\n",
      "\n",
      "Cost in iteraction 1: 372.016819753\n",
      "Error convergence: 2094.81401491\n",
      "Derivatives: -26.4098475396 -659.3121676007224\n",
      "New beta0 and beta1 0.0960767800549 2.401275689049802\n",
      "\n",
      "\n",
      "Cost in iteraction 2: 71.9266703262\n",
      "Error convergence: 300.090149427\n",
      "Derivatives: -10.0375212291 -249.54066243461648\n",
      "New beta0 and beta1 0.106114301284 2.6508163514844187\n",
      "\n",
      "\n",
      "Cost in iteraction 3: 28.9376010959\n",
      "Error convergence: 42.9890692303\n",
      "Derivatives: -3.84077728452 -94.44670181777069\n",
      "New beta0 and beta1 0.109955078569 2.7452630533021893\n",
      "\n",
      "\n",
      "Cost in iteraction 4: 22.7792481164\n",
      "Error convergence: 6.15835297951\n",
      "Derivatives: -1.49537817724 -35.74536140594674\n",
      "New beta0 and beta1 0.111450456746 2.781008414708136\n",
      "\n",
      "\n",
      "Cost in iteraction 5: 21.8970365616\n",
      "Error convergence: 0.882211554787\n",
      "Derivatives: -0.607670288212 -13.527556464177817\n",
      "New beta0 and beta1 0.112058127034 2.794535971172314\n",
      "\n",
      "\n",
      "Cost in iteraction 6: 21.7706525109\n",
      "Error convergence: 0.126384050744\n",
      "Derivatives: -0.27168232498 -5.118364231179356\n",
      "New beta0 and beta1 0.112329809359 2.7996543354034933\n",
      "\n",
      "\n",
      "Cost in iteraction 7: 21.7525436503\n",
      "Error convergence: 0.018108860561\n",
      "Derivatives: -0.144514222019 -1.9355784438316448\n",
      "New beta0 and beta1 0.112474323581 2.801589913847325\n",
      "\n",
      "\n",
      "Cost in iteraction 8: 21.7499456263\n",
      "Error convergence: 0.00259802403595\n",
      "Derivatives: -0.0963821154168 -0.7309294115099236\n",
      "New beta0 and beta1 0.112570705696 2.8023208432588347\n",
      "\n",
      "\n",
      "Cost in iteraction 9: 21.7495695892\n",
      "Error convergence: 0.000376037114933\n",
      "Derivatives: -0.0781642550579 -0.27498315656940164\n",
      "New beta0 and beta1 0.112648869951 2.8025958264154043\n",
      "\n",
      "\n",
      "Cost in iteraction 10: 21.7495118603\n",
      "Error convergence: 5.77288898036e-05\n",
      "Derivatives: -0.0712686044482 -0.10241258201861392\n",
      "New beta0 and beta1 0.112720138556 2.802698238997423\n",
      "\n",
      "\n",
      "Cost in iteraction 11: 21.7494997303\n",
      "Error convergence: 1.21299424194e-05\n",
      "Derivatives: -0.0686582844009 -0.03709655314611382\n",
      "New beta0 and beta1 0.11278879684 2.8027353355505693\n",
      "\n",
      "\n",
      "Cost in iteraction 12: 21.7494941327\n",
      "Error convergence: 5.59764546892e-06\n",
      "Derivatives: -0.0676699143493 -0.012375177818994665\n",
      "New beta0 and beta1 0.112856466755 2.8027477107283882\n",
      "\n",
      "\n"
     ]
    }
   ],
   "source": [
    "(bias, beta1, errorArray) = linearRegressionRun(x_data, y_data)"
   ]
  },
  {
   "cell_type": "markdown",
   "metadata": {},
   "source": [
    "### Plot Error Curve"
   ]
  },
  {
   "cell_type": "code",
   "execution_count": 9,
   "metadata": {},
   "outputs": [
    {
     "data": {
      "image/png": "[encoded data removed]",
      "text/plain": [
       "<matplotlib.figure.Figure at 0x10ad517f0>"
      ]
     },
     "metadata": {},
     "output_type": "display_data"
    }
   ],
   "source": [
    "import matplotlib.pyplot as plt\n",
    "%matplotlib inline\n",
    "\n",
    "plt.plot(errorArray[errorArray != 0])\n",
    "plt.xlabel('Iteractions')\n",
    "plt.ylabel('Minimum Square Error')\n",
    "plt.title('Error Convergence')\n",
    "plt.show()"
   ]
  },
  {
   "cell_type": "markdown",
   "metadata": {},
   "source": [
    "### Plot curve"
   ]
  },
  {
   "cell_type": "code",
   "execution_count": 30,
   "metadata": {},
   "outputs": [
    {
     "data": {
      "text/plain": [
       "<matplotlib.text.Text at 0x110cd1e48>"
      ]
     },
     "execution_count": 30,
     "metadata": {},
     "output_type": "execute_result"
    },
    {
     "data": {
      "image/png": "[encoded data removed]",
      "text/plain": [
       "<matplotlib.figure.Figure at 0x10ad51860>"
      ]
     },
     "metadata": {},
     "output_type": "display_data"
    }
   ],
   "source": [
    "plt.scatter(x_data[:,1], y_data)\n",
    "\n",
    "predictedData = x_data * np.matrix([bias, beta1]).transpose()\n",
    "plt.plot(x_data[:,1], predictedData, 'r')\n",
    "\n",
    "plt.xlabel('BMI')\n",
    "plt.ylabel('Life Exp.')\n",
    "\n",
    "from scipy.stats import pearsonr\n",
    "plt.title('Linear Relationship BMI and Life Exp.')"
   ]
  }
 ],
 "metadata": {
  "kernelspec": {
   "display_name": "Python [conda env:py3]",
   "language": "python",
   "name": "conda-env-py3-py"
  },
  "language_info": {
   "codemirror_mode": {
    "name": "ipython",
    "version": 3
   },
   "file_extension": ".py",
   "mimetype": "text/x-python",
   "name": "python",
   "nbconvert_exporter": "python",
   "pygments_lexer": "ipython3",
   "version": "3.6.2"
  }
 },
 "nbformat": 4,
 "nbformat_minor": 2
}
